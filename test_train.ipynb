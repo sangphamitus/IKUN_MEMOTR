{
 "cells": [
  {
   "cell_type": "markdown",
   "metadata": {},
   "source": [
    "# Setup "
   ]
  },
  {
   "cell_type": "code",
   "execution_count": 1,
   "metadata": {},
   "outputs": [
    {
     "name": "stderr",
     "output_type": "stream",
     "text": [
      "c:\\Users\\phamp\\miniforge3\\envs\\PY10CU118\\lib\\site-packages\\tqdm\\auto.py:21: TqdmWarning: IProgress not found. Please update jupyter and ipywidgets. See https://ipywidgets.readthedocs.io/en/stable/user_install.html\n",
      "  from .autonotebook import tqdm as notebook_tqdm\n"
     ]
    },
    {
     "name": "stdout",
     "output_type": "stream",
     "text": [
      "Configs: {'GIT_VERSION': None, 'MODE': 'train', 'CONFIG_PATH': './configs/train_mot17_coco.yaml', 'VISUALIZE': False, 'AVAILABLE_GPUS': '0,1,2,3,4,5,6,7', 'DEVICE': 'cuda', 'OUTPUTS_DIR': './outputs/memotr_mot17_coco/', 'USE_DISTRIBUTED': False, 'USE_CHECKPOINT': False, 'CHECKPOINT_LEVEL': 2, 'RESUME': None, 'RESUME_SCHEDULER': True, 'MULTI_CHECKPOINT': False, 'SUBMIT_DIR': None, 'SUBMIT_MODEL': None, 'SUBMIT_DATA_SPLIT': 'test', 'DET_SCORE_THRESH': 0.5, 'TRACK_SCORE_THRESH': 0.5, 'RESULT_SCORE_THRESH': 0.5, 'MISS_TOLERANCE': 15, 'USE_MOTION': False, 'MOTION_MIN_LENGTH': 3, 'MOTION_MAX_LENGTH': 5, 'MOTION_LAMBDA': 0.5, 'EVAL_DIR': None, 'EVAL_MODE': 'specific', 'EVAL_MODEL': None, 'EVAL_PORT': None, 'EVAL_THREADS': 1, 'EVAL_DATA_SPLIT': 'val', 'DATASET': 'MOT17_COCO', 'USE_MOTSYNTH': None, 'USE_CROWDHUMAN': True, 'MOTSYNTH_RATE': None, 'DATA_ROOT': './DATA_DIR', 'DATA_PATH': None, 'NUM_WORKERS': 4, 'BATCH_SIZE': 1, 'ACCUMULATION_STEPS': 1, 'COCO_SIZE': True, 'OVERFLOW_BBOX': True, 'REVERSE_CLIP': 0.0, 'BACKBONE': 'resnet50', 'HIDDEN_DIM': 256, 'FFN_DIM': 2048, 'NUM_FEATURE_LEVELS': 4, 'NUM_HEADS': 8, 'NUM_ENC_POINTS': 4, 'NUM_DEC_POINTS': 4, 'NUM_ENC_LAYERS': 6, 'NUM_DEC_LAYERS': 6, 'MERGE_DET_TRACK_LAYER': 1, 'ACTIVATION': 'ReLU', 'RETURN_INTER_DEC': True, 'EXTRA_TRACK_ATTN': False, 'AUX_LOSS': True, 'USE_DAB': True, 'UPDATE_THRESH': 0.5, 'LONG_MEMORY_LAMBDA': 0.01, 'PRETRAINED_MODEL': 'dab_deformable_detr.pth', 'SAMPLE_STEPS': [60, 100], 'SAMPLE_LENGTHS': [2, 3, 4], 'SAMPLE_MODES': ['random_interval'], 'SAMPLE_INTERVALS': [10], 'SAMPLE_MOT17_JOIN': 0, 'SEED': 42, 'EPOCHS': 130, 'ONLY_TRAIN_QUERY_UPDATER_AFTER': 130, 'DROPOUT': 0.0, 'NUM_DET_QUERIES': 300, 'TP_DROP_RATE': 0.0, 'FP_INSERT_RATE': 0.0, 'LR': 0.0002, 'LR_BACKBONE': 2e-05, 'LR_POINTS': 2e-05, 'WEIGHT_DECAY': 0.0001, 'CLIP_MAX_NORM': 0.1, 'LR_SCHEDULER': 'MultiStep', 'LR_DROP_RATE': 0.1, 'LR_DROP_MILESTONES': [120], 'MATCH_COST_CLASS': 2, 'MATCH_COST_BBOX': 5, 'MATCH_COST_GIOU': 2, 'LOSS_WEIGHT_FOCAL': 2, 'LOSS_WEIGHT_L1': 5, 'LOSS_WEIGHT_GIOU': 2, 'AUX_LOSS_WEIGHT': [1.0, 1.0, 1.0, 1.0, 1.0], 'TRAIN_COCO': './outputs/memotr_mot17_coco/train/mot17_train_coco_reforged.json', 'F': 'c:\\\\Users\\\\phamp\\\\AppData\\\\Roaming\\\\jupyter\\\\runtime\\\\kernel-v2-8692Yh231igChwQq.json', 'FREEZE_MEMOTR': True}\n",
      "Pretrained model is loaded, there are 0 parameters droped and 32 parameters unloaded, set 'show details' True to see more details.\n"
     ]
    }
   ],
   "source": [
    "from main import parse_option, main,yaml_to_dict,update_config\n",
    "opt = parse_option()                  # runtime options\n",
    "cfg = yaml_to_dict(opt.config_path)   # configs\n",
    "\n",
    "# Merge parser option and .yaml config, then run main function.\n",
    "merged_config = update_config(config=cfg, option=opt)\n",
    "merged_config[\"CONFIG_PATH\"] = opt.config_path\n",
    "main(config=merged_config)"
   ]
  },
  {
   "cell_type": "code",
   "execution_count": 1,
   "metadata": {},
   "outputs": [
    {
     "name": "stdout",
     "output_type": "stream",
     "text": [
      "Configs: {'GIT_VERSION': None, 'MODE': 'train', 'CONFIG_PATH': './configs/train_mot17_coco.yaml', 'VISUALIZE': False, 'AVAILABLE_GPUS': '0,1,2,3,4,5,6,7', 'DEVICE': 'cuda', 'OUTPUTS_DIR': './outputs/memotr_mot17_coco/', 'USE_DISTRIBUTED': False, 'USE_CHECKPOINT': False, 'CHECKPOINT_LEVEL': 2, 'RESUME': None, 'RESUME_SCHEDULER': True, 'MULTI_CHECKPOINT': False, 'SUBMIT_DIR': None, 'SUBMIT_MODEL': None, 'SUBMIT_DATA_SPLIT': 'test', 'DET_SCORE_THRESH': 0.5, 'TRACK_SCORE_THRESH': 0.5, 'RESULT_SCORE_THRESH': 0.5, 'MISS_TOLERANCE': 15, 'USE_MOTION': False, 'MOTION_MIN_LENGTH': 3, 'MOTION_MAX_LENGTH': 5, 'MOTION_LAMBDA': 0.5, 'EVAL_DIR': None, 'EVAL_MODE': 'specific', 'EVAL_MODEL': None, 'EVAL_PORT': None, 'EVAL_THREADS': 1, 'EVAL_DATA_SPLIT': 'val', 'DATASET': 'MOT17_COCO', 'USE_MOTSYNTH': None, 'USE_CROWDHUMAN': True, 'MOTSYNTH_RATE': None, 'DATA_ROOT': './DATA_DIR', 'DATA_PATH': None, 'NUM_WORKERS': 4, 'BATCH_SIZE': 1, 'ACCUMULATION_STEPS': 1, 'COCO_SIZE': True, 'OVERFLOW_BBOX': True, 'REVERSE_CLIP': 0.0, 'BACKBONE': 'resnet50', 'HIDDEN_DIM': 256, 'FFN_DIM': 2048, 'NUM_FEATURE_LEVELS': 4, 'NUM_HEADS': 8, 'NUM_ENC_POINTS': 4, 'NUM_DEC_POINTS': 4, 'NUM_ENC_LAYERS': 6, 'NUM_DEC_LAYERS': 6, 'MERGE_DET_TRACK_LAYER': 1, 'ACTIVATION': 'ReLU', 'RETURN_INTER_DEC': True, 'EXTRA_TRACK_ATTN': False, 'AUX_LOSS': True, 'USE_DAB': True, 'UPDATE_THRESH': 0.5, 'LONG_MEMORY_LAMBDA': 0.01, 'PRETRAINED_MODEL': 'dab_deformable_detr.pth', 'SAMPLE_STEPS': [60, 100], 'SAMPLE_LENGTHS': [2, 3, 4], 'SAMPLE_MODES': ['random_interval'], 'SAMPLE_INTERVALS': [10], 'SAMPLE_MOT17_JOIN': 0, 'SEED': 42, 'EPOCHS': 130, 'ONLY_TRAIN_QUERY_UPDATER_AFTER': 130, 'DROPOUT': 0.0, 'NUM_DET_QUERIES': 300, 'TP_DROP_RATE': 0.0, 'FP_INSERT_RATE': 0.0, 'LR': 0.0002, 'LR_BACKBONE': 2e-05, 'LR_POINTS': 2e-05, 'WEIGHT_DECAY': 0.0001, 'CLIP_MAX_NORM': 0.1, 'LR_SCHEDULER': 'MultiStep', 'LR_DROP_RATE': 0.1, 'LR_DROP_MILESTONES': [120], 'MATCH_COST_CLASS': 2, 'MATCH_COST_BBOX': 5, 'MATCH_COST_GIOU': 2, 'LOSS_WEIGHT_FOCAL': 2, 'LOSS_WEIGHT_L1': 5, 'LOSS_WEIGHT_GIOU': 2, 'AUX_LOSS_WEIGHT': [1.0, 1.0, 1.0, 1.0, 1.0], 'TRAIN_COCO': './outputs/memotr_mot17_coco/train/mot17_train_coco.json'}\n",
      "Pretrained model is loaded, there are 0 parameters droped and 32 parameters unloaded, set 'show details' True to see more details.\n"
     ]
    },
    {
     "name": "stderr",
     "output_type": "stream",
     "text": [
      "Traceback (most recent call last):\n",
      "  File \"c:\\Users\\phamp\\Desktop\\Hello\\MeMOTR_IKUN\\main.py\", line 124, in <module>\n",
      "    main(config=merged_config)\n",
      "  File \"c:\\Users\\phamp\\Desktop\\Hello\\MeMOTR_IKUN\\main.py\", line 107, in main\n",
      "    train(config=config)\n",
      "  File \"c:\\Users\\phamp\\Desktop\\Hello\\MeMOTR_IKUN\\train_engine.py\", line 43, in train\n",
      "    dataset_train = build_dataset(config=config, split=\"train\")\n",
      "  File \"c:\\Users\\phamp\\Desktop\\Hello\\MeMOTR_IKUN\\data\\__init__.py\", line 40, in build_dataset\n",
      "    return build_mot17_coco(config=config, split=split)\n",
      "  File \"c:\\Users\\phamp\\Desktop\\Hello\\MeMOTR_IKUN\\data\\mot17_coco.py\", line 288, in build\n",
      "    return MOT17_COCO(\n",
      "  File \"c:\\Users\\phamp\\Desktop\\Hello\\MeMOTR_IKUN\\data\\mot17_coco.py\", line 93, in __init__\n",
      "    crowdhuman_gt_filenames = os.listdir(self.crowdhuman_gts_dir)\n",
      "FileNotFoundError: [WinError 3] The system cannot find the path specified: './DATA_DIR\\\\CrowdHuman\\\\gts\\\\val'\n"
     ]
    }
   ],
   "source": [
    "!python main.py --config-path ./configs/train_mot17_coco.yaml --outputs-dir ./outputs/memotr_mot17_coco/ --batch-size 1 --data-root ./DATA_DIR\n"
   ]
  }
 ],
 "metadata": {
  "kernelspec": {
   "display_name": "Python 3",
   "language": "python",
   "name": "python3"
  },
  "language_info": {
   "codemirror_mode": {
    "name": "ipython",
    "version": 3
   },
   "file_extension": ".py",
   "mimetype": "text/x-python",
   "name": "python",
   "nbconvert_exporter": "python",
   "pygments_lexer": "ipython3",
   "version": "3.10.13"
  }
 },
 "nbformat": 4,
 "nbformat_minor": 2
}
